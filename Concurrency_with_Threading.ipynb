{
 "cells": [
  {
   "cell_type": "markdown",
   "metadata": {},
   "source": [
    "# Random Count Generator\n",
    "\n",
    "# 1)\n",
    "\n",
    "Create a function that prints a random number between 1 and 5 to stdout (or console). The probability distribution of the numbers should be as follows:\n",
    "\n",
    "* 1 - 50%\n",
    "* 2 - 25%\n",
    "* 3 - 15%\n",
    "* 4 - 5%\n",
    "* 5 - 5%"
   ]
  },
  {
   "cell_type": "code",
   "execution_count": 1,
   "metadata": {},
   "outputs": [
    {
     "data": {
      "text/plain": [
       "<matplotlib.text.Text at 0x209e8781908>"
      ]
     },
     "execution_count": 1,
     "metadata": {},
     "output_type": "execute_result"
    },
    {
     "data": {
      "image/png": "[encoded data removed]",
      "text/plain": [
       "<matplotlib.figure.Figure at 0x209e64fee80>"
      ]
     },
     "metadata": {},
     "output_type": "display_data"
    }
   ],
   "source": [
    "import numpy as np\n",
    "import matplotlib.pyplot as plt\n",
    "%matplotlib inline\n",
    "from collections import Counter\n",
    "\n",
    "\n",
    "def generate_number(X=[1, 2, 3, 4, 5], \n",
    "                    P_X=[0.5, 0.25, 0.15, 0.05, 0.05]):   \n",
    "    return np.random.choice(X, p=P_X)\n",
    "\n",
    "num = 1000\n",
    "counter = Counter(generate_number() for _ in range(num))\n",
    "x_axis = sorted(counter)\n",
    "y_axis = [counter[val] / num for val in x_axis]\n",
    "\n",
    "plt.bar(x_axis, y_axis, edgecolor='black')\n",
    "plt.title('Relative Frequency Across Generated Value')\n",
    "plt.xlabel('Generated Value')\n",
    "plt.ylabel('Relative Frequency')"
   ]
  },
  {
   "cell_type": "code",
   "execution_count": null,
   "metadata": {
    "collapsed": true
   },
   "outputs": [],
   "source": []
  },
  {
   "cell_type": "markdown",
   "metadata": {},
   "source": [
    "# 2)  \n",
    "Change the function to a method, add a class member that stores a history of the last 100 numbers, and a function to return the frequency percentages of each number."
   ]
  },
  {
   "cell_type": "code",
   "execution_count": 2,
   "metadata": {},
   "outputs": [
    {
     "data": {
      "image/png": "[encoded data removed]",
      "text/plain": [
       "<matplotlib.figure.Figure at 0x209e64cdda0>"
      ]
     },
     "metadata": {},
     "output_type": "display_data"
    },
    {
     "name": "stdout",
     "output_type": "stream",
     "text": [
      "[(1, 0.44), (2, 0.29), (3, 0.15), (4, 0.07), (5, 0.05)]\n"
     ]
    },
    {
     "data": {
      "image/png": "[encoded data removed]",
      "text/plain": [
       "<matplotlib.figure.Figure at 0x209e889d588>"
      ]
     },
     "metadata": {},
     "output_type": "display_data"
    }
   ],
   "source": [
    "from collections import Counter, deque\n",
    "\n",
    "class Random_Count_Generator_v0(object):\n",
    "    def __init__(self, \n",
    "                 X=[1, 2, 3, 4, 5], \n",
    "                 P_X=[0.5, 0.25, 0.15, 0.05, 0.05],\n",
    "                 max_history_length=100):\n",
    "        self.X = X\n",
    "        self.P_X = P_X\n",
    "        self.recent_history = deque(maxlen=max_history_length)\n",
    "        self.history_counter = Counter()\n",
    "        self.max_history_length=max_history_length\n",
    "        \n",
    "    def generate_number(self):\n",
    "        new_value = np.random.choice(self.X, p=self.P_X)\n",
    "        if len(self.recent_history) == self.max_history_length:\n",
    "            forgotten_value = self.recent_history.popleft()\n",
    "            self.history_counter[forgotten_value] -= 1        \n",
    "        self.recent_history.append(new_value)\n",
    "        self.history_counter[new_value] += 1\n",
    "        return new_value\n",
    "            \n",
    "    def get_relative_frequency_of_recent_history(self):\n",
    "        current_length = len(self.recent_history)\n",
    "        relative_frequency = [(val, count / current_length) for \n",
    "                              val, count in self.history_counter.items()]\n",
    "        return sorted(relative_frequency, key=lambda tup: tup[0])\n",
    "\n",
    "num = 1000\n",
    "rcg = Random_Count_Generator_v0()\n",
    "counter = Counter(rcg.generate_number() for _ in range(num))\n",
    "x_axis = sorted(counter)\n",
    "y_axis = [counter[val] / num for val in x_axis]\n",
    "\n",
    "plt.bar(x_axis, y_axis, edgecolor='black')\n",
    "plt.title('Relative Frequency Across Generated Value')\n",
    "plt.xlabel('Generated Value')\n",
    "plt.ylabel('Relative Frequency')\n",
    "plt.show()\n",
    "\n",
    "relative_frequency_of_recent_history = rcg.get_relative_frequency_of_recent_history()\n",
    "print(relative_frequency_of_recent_history)\n",
    "plt.bar(*(zip(*relative_frequency_of_recent_history)), edgecolor='black')\n",
    "plt.title('Relative Frequency For Last 100 Generated Values')\n",
    "plt.xlabel('Generated Value')\n",
    "plt.ylabel('Relative Frequency')\n",
    "plt.show()"
   ]
  },
  {
   "cell_type": "code",
   "execution_count": null,
   "metadata": {
    "collapsed": true
   },
   "outputs": [],
   "source": []
  },
  {
   "cell_type": "markdown",
   "metadata": {},
   "source": [
    "# 3)\n",
    "Create a method that reads the most recently generated random number and the current time and writes them both to disk on one line."
   ]
  },
  {
   "cell_type": "code",
   "execution_count": 3,
   "metadata": {},
   "outputs": [],
   "source": [
    "from datetime import datetime\n",
    "\n",
    "class Random_Count_Generator_v1(Random_Count_Generator_v0):\n",
    "    def __init__(self, \n",
    "                 X=[1, 2, 3, 4, 5], \n",
    "                 P_X=[0.5, 0.25, 0.15, 0.05, 0.05],\n",
    "                 max_history_length=100):\n",
    "        Random_Count_Generator_v0.__init__(self, X, P_X, max_history_length)\n",
    "        \n",
    "    def write_most_recent_value(self, output_file_name):\n",
    "        with open(output_file_name, mode='a') as f:\n",
    "            f.write(str(self.recent_history[-1]) + '\\t' + str(datetime.now()) + '\\n')\n",
    "\n",
    "            \n",
    "rcg = Random_Count_Generator_v1()\n",
    "output_file = 'most_recent_results.txt'\n",
    "!rm {output_file}\n",
    "for _ in range(10):\n",
    "    rcg.generate_number()\n",
    "    rcg.write_most_recent_value(output_file)"
   ]
  },
  {
   "cell_type": "code",
   "execution_count": 4,
   "metadata": {},
   "outputs": [
    {
     "name": "stdout",
     "output_type": "stream",
     "text": [
      "2\t2017-12-15 19:20:20.360373\n",
      "2\t2017-12-15 19:20:20.361376\n",
      "2\t2017-12-15 19:20:20.362380\n",
      "1\t2017-12-15 19:20:20.363228\n",
      "2\t2017-12-15 19:20:20.364636\n",
      "4\t2017-12-15 19:20:20.365664\n",
      "2\t2017-12-15 19:20:20.366667\n",
      "2\t2017-12-15 19:20:20.367668\n",
      "1\t2017-12-15 19:20:20.369206\n",
      "3\t2017-12-15 19:20:20.369206\n"
     ]
    }
   ],
   "source": [
    "!cat {output_file}"
   ]
  },
  {
   "cell_type": "code",
   "execution_count": null,
   "metadata": {
    "collapsed": true
   },
   "outputs": [],
   "source": []
  },
  {
   "cell_type": "markdown",
   "metadata": {},
   "source": [
    "# 4)\n",
    "Modify the writer function so it is launched in a different thread. The random number generator should put the numbers and timestamps into a queue that the writer function uses to write its output to disk."
   ]
  },
  {
   "cell_type": "code",
   "execution_count": 5,
   "metadata": {
    "collapsed": true
   },
   "outputs": [],
   "source": [
    "from threading import Thread\n",
    "from collections import defaultdict\n",
    "import time\n",
    "\n",
    "\n",
    "class Random_Count_Generator_v2(Random_Count_Generator_v1):\n",
    "    def __init__(self, \n",
    "                 X=[1, 2, 3, 4, 5], \n",
    "                 P_X=[0.5, 0.25, 0.15, 0.05, 0.05],\n",
    "                 max_history_length=100):\n",
    "        Random_Count_Generator_v1.__init__(self, X, P_X, max_history_length)\n",
    "        self.entire_history = deque()\n",
    "        self.still_generating_numbers = False\n",
    "\n",
    "    def generator_inside_thread(self, arrival_rate=10, seconds_until_shutdown=None):\n",
    "        seconds_until_shutdown = seconds_until_shutdown if \\\n",
    "            seconds_until_shutdown else float('inf')\n",
    "        start_time = time.time()\n",
    "\n",
    "        while time.time() - start_time < seconds_until_shutdown:\n",
    "            time.sleep(np.random.exponential(1 / arrival_rate))\n",
    "            current_val = self.generate_number()\n",
    "            self.entire_history.append((datetime.now(), current_val))            \n",
    "        \n",
    "    def writer(self, output_file_name):\n",
    "        while self.still_generating_numbers:\n",
    "            try:\n",
    "                generated_date, generated_val = self.entire_history.popleft()\n",
    "            except IndexError:\n",
    "                time.sleep(0.2) # reduce CPU usage when queue is empty\n",
    "                continue\n",
    "            with open(output_file_name, mode='a') as f:\n",
    "                f.write(str(generated_date) + '\\t' + str(generated_val) + '\\n')        \n",
    "            \n",
    "    def run_threads(self, output_file_name, arrival_rate=10, seconds_until_shutdown=None):\n",
    "        self.still_generating_numbers = True\n",
    "        g = Thread(target=self.generator_inside_thread, \n",
    "                   args=(arrival_rate, seconds_until_shutdown))\n",
    "        g.start()\n",
    "                \n",
    "        w = Thread(target=self.writer, args=(output_file_name,)) # \n",
    "        w.start()\n",
    "        \n",
    "        g.join() # ensure number generators terminate, not blocking\n",
    "        \n",
    "        while self.entire_history: # \n",
    "            time.sleep(0.2) # allow more time for writer() to empty the queues\n",
    "            \n",
    "        self.still_generating_numbers = False # switch to turn off, tells writer() to terminate \n",
    "        w.join() # ensure writer finishes running prior to exiting out of method"
   ]
  },
  {
   "cell_type": "code",
   "execution_count": 6,
   "metadata": {
    "scrolled": false
   },
   "outputs": [
    {
     "name": "stdout",
     "output_type": "stream",
     "text": [
      "Wall time: 5.5 s\n"
     ]
    }
   ],
   "source": [
    "%%time\n",
    "rcg = Random_Count_Generator_v2()\n",
    "output_file_name = 'most_recent_results.txt'\n",
    "!rm {output_file_name}\n",
    "\n",
    "rcg.run_threads(output_file_name, arrival_rate=10, seconds_until_shutdown=5)"
   ]
  },
  {
   "cell_type": "code",
   "execution_count": 7,
   "metadata": {
    "scrolled": true
   },
   "outputs": [
    {
     "name": "stdout",
     "output_type": "stream",
     "text": [
      "56 most_recent_results.txt\n",
      "2017-12-15 19:20:20.836629\t1\n",
      "2017-12-15 19:20:20.855105\t2\n",
      "2017-12-15 19:20:20.890832\t1\n",
      "2017-12-15 19:20:20.924539\t1\n",
      "2017-12-15 19:20:20.938093\t2\n",
      "2017-12-15 19:20:21.045093\t1\n",
      "2017-12-15 19:20:21.178991\t1\n",
      "2017-12-15 19:20:21.233306\t2\n",
      "2017-12-15 19:20:21.406247\t1\n",
      "2017-12-15 19:20:21.417870\t2\n"
     ]
    }
   ],
   "source": [
    "!wc -l {output_file_name}\n",
    "!head {output_file_name}"
   ]
  },
  {
   "cell_type": "code",
   "execution_count": null,
   "metadata": {
    "collapsed": true
   },
   "outputs": [],
   "source": []
  },
  {
   "cell_type": "markdown",
   "metadata": {},
   "source": [
    "# 5)\n",
    "Modify the program so it has 5 copies of the random number function running concurrently in different threads. They should all feed the single writer thread counts and timestamps, and the writer should ensure they are written in chronological order."
   ]
  },
  {
   "cell_type": "code",
   "execution_count": 8,
   "metadata": {
    "collapsed": true
   },
   "outputs": [],
   "source": [
    "class Random_Count_Generator_v3(Random_Count_Generator_v2):\n",
    "    def __init__(self, \n",
    "                 X=[1, 2, 3, 4, 5], \n",
    "                 P_X=[0.5, 0.25, 0.15, 0.05, 0.05],\n",
    "                 max_history_length=100):\n",
    "        Random_Count_Generator_v2.__init__(self, X, P_X, max_history_length)\n",
    "        self.thread_histories = defaultdict(deque)\n",
    "        self.threads = []\n",
    "                \n",
    "    def generator_inside_thread(self, thread_id, arrival_rate=10,  # method overridden\n",
    "                                seconds_until_shutdown=None):\n",
    "        seconds_until_shutdown = seconds_until_shutdown if seconds_until_shutdown else float('inf')\n",
    "        start_time = time.time()\n",
    "\n",
    "        while time.time() - start_time < seconds_until_shutdown:\n",
    "            time.sleep(np.random.exponential(1 / arrival_rate))\n",
    "            current_val = self.generate_number()\n",
    "            self.thread_histories[thread_id].append((datetime.now(), current_val))\n",
    "            \n",
    "    def writer(self, output_file_name, num_threads): # method overridden\n",
    "        earliest_numbers = {}\n",
    "        while self.still_generating_numbers:\n",
    "            for thread_id in range(num_threads):\n",
    "                if not earliest_numbers.get(thread_id): # checks whether queue is empty\n",
    "                    try: \n",
    "                        earliest_numbers[thread_id] = self.thread_histories[thread_id].popleft()\n",
    "                    except IndexError:\n",
    "                        pass\n",
    "\n",
    "            existing_earliest_numbers = ([earliest_numbers[thread_id], thread_id] for thread_id\n",
    "                 in earliest_numbers if earliest_numbers.get(thread_id))            \n",
    "            existing_earliest_numbers = sorted(existing_earliest_numbers, key=lambda item: item[0][0])\n",
    "            \n",
    "            if not existing_earliest_numbers: # if all the queues are completely empty, \n",
    "                time.sleep(0.2) # wait a bit and then try again\n",
    "                continue\n",
    "            else:\n",
    "                (generated_date, generated_val), thread_id_ = existing_earliest_numbers[0]\n",
    "                with open(output_file_name, mode='a') as f:\n",
    "                    f.write(str(generated_date) + '\\t' + str(generated_val) + '\\n')\n",
    "                earliest_numbers.pop(thread_id_)\n",
    "                \n",
    "    def run_threads(self, output_file_name, num_threads, arrival_rate=10,  # method overridden\n",
    "                    seconds_until_shutdown=None):\n",
    "        self.still_generating_numbers = True\n",
    "        for thread_id in range(num_threads):\n",
    "            g = Thread(target=self.generator_inside_thread, \n",
    "                       args=(thread_id, arrival_rate, seconds_until_shutdown))\n",
    "            g.start()\n",
    "            self.threads.append(g)\n",
    "                \n",
    "        w = Thread(target=self.writer, args=(output_file_name, num_threads,))\n",
    "        w.start()\n",
    "        \n",
    "        for g in self.threads:\n",
    "            g.join() # ensure number generators terminate, not blocking\n",
    "        \n",
    "        while any(self.thread_histories.values()): # check if all histories are empty\n",
    "            time.sleep(0.02) # allow more time for writer() to empty the queues\n",
    "        \n",
    "        self.still_generating_numbers = False  # switch to turn off, tells writer() to terminate\n",
    "        w.join() # ensure writer finishes running prior to exiting out of method"
   ]
  },
  {
   "cell_type": "code",
   "execution_count": 9,
   "metadata": {},
   "outputs": [
    {
     "name": "stdout",
     "output_type": "stream",
     "text": [
      "Wall time: 4.98 s\n"
     ]
    }
   ],
   "source": [
    "%%time\n",
    "rcg = Random_Count_Generator_v3()\n",
    "output_file_name = 'most_recent_results.txt'\n",
    "!rm {output_file_name}\n",
    "\n",
    "rcg.run_threads(output_file_name=output_file_name, num_threads=5, \n",
    "                arrival_rate=10, seconds_until_shutdown=4)"
   ]
  },
  {
   "cell_type": "code",
   "execution_count": 10,
   "metadata": {
    "scrolled": true
   },
   "outputs": [
    {
     "name": "stdout",
     "output_type": "stream",
     "text": [
      "208 most_recent_results.txt\n",
      "2017-12-15 19:20:26.662457\t1\n",
      "2017-12-15 19:20:26.698494\t1\n",
      "2017-12-15 19:20:26.698494\t3\n",
      "2017-12-15 19:20:26.715542\t1\n",
      "2017-12-15 19:20:26.770273\t1\n",
      "2017-12-15 19:20:26.787554\t1\n",
      "2017-12-15 19:20:26.841116\t3\n",
      "2017-12-15 19:20:26.841116\t1\n",
      "2017-12-15 19:20:26.874497\t3\n",
      "2017-12-15 19:20:26.879132\t1\n"
     ]
    }
   ],
   "source": [
    "!wc -l {output_file_name}\n",
    "!head {output_file_name}"
   ]
  },
  {
   "cell_type": "code",
   "execution_count": 11,
   "metadata": {},
   "outputs": [
    {
     "name": "stdout",
     "output_type": "stream",
     "text": [
      "In Sorted Order: True\n"
     ]
    }
   ],
   "source": [
    "# Proof of Correctness--Sorted by datetimes correctly\n",
    "with open('most_recent_results.txt') as f:\n",
    "    date_times = []\n",
    "    for line in f:\n",
    "        date_times.append(datetime.strptime(line.split('\\t')[0], \n",
    "                                            \"%Y-%m-%d %H:%M:%S.%f\"))\n",
    "    print(\"In Sorted Order: {}\".format(date_times == sorted(date_times)))"
   ]
  }
 ],
 "metadata": {
  "kernelspec": {
   "display_name": "Python 3",
   "language": "python",
   "name": "python3"
  },
  "language_info": {
   "codemirror_mode": {
    "name": "ipython",
    "version": 3
   },
   "file_extension": ".py",
   "mimetype": "text/x-python",
   "name": "python",
   "nbconvert_exporter": "python",
   "pygments_lexer": "ipython3",
   "version": "3.6.1"
  }
 },
 "nbformat": 4,
 "nbformat_minor": 1
}
